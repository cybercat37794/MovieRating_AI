{
  "nbformat": 4,
  "nbformat_minor": 0,
  "metadata": {
    "colab": {
      "provenance": []
    },
    "kernelspec": {
      "name": "python3",
      "display_name": "Python 3"
    },
    "language_info": {
      "name": "python"
    }
  },
  "cells": [
    {
      "cell_type": "code",
      "execution_count": 1,
      "metadata": {
        "id": "-MMnA45T_IKI"
      },
      "outputs": [],
      "source": [
        "import pandas as pd\n",
        "import numpy as np\n",
        "import tensorflow as tf\n",
        "from tensorflow.keras.preprocessing.text import Tokenizer\n",
        "from tensorflow.keras.preprocessing.sequence import pad_sequences\n",
        "from tensorflow.keras.models import Sequential\n",
        "from tensorflow.keras.layers import Embedding, LSTM, Dense, Dropout\n",
        "from sklearn.model_selection import train_test_split\n",
        "from sklearn.preprocessing import StandardScaler"
      ]
    },
    {
      "cell_type": "code",
      "source": [
        "# Load the dataset\n",
        "file_path = \"/content/clean_movie_datasetV2.csv\"  # Update with the actual file path\n",
        "df = pd.read_csv(file_path)"
      ],
      "metadata": {
        "id": "n1IAD8LY_fpK"
      },
      "execution_count": 2,
      "outputs": []
    },
    {
      "cell_type": "code",
      "source": [
        "# Ensure the 'plot' and 'averageRating' columns exist\n",
        "df = df[['plot', 'averageRating']].dropna()"
      ],
      "metadata": {
        "id": "ukj1ta9r_lyB"
      },
      "execution_count": 3,
      "outputs": []
    },
    {
      "cell_type": "code",
      "source": [
        "# Text Preprocessing\n",
        "max_vocab_size = 10000  # Limit vocabulary size\n",
        "max_length = 300  # Maximum sequence length for padding\n",
        "\n",
        "tokenizer = Tokenizer(num_words=max_vocab_size, oov_token=\"<OOV>\")\n",
        "tokenizer.fit_on_texts(df['plot'])\n",
        "\n",
        "sequences = tokenizer.texts_to_sequences(df['plot'])\n",
        "padded_sequences = pad_sequences(sequences, maxlen=max_length, padding='post', truncating='post')\n"
      ],
      "metadata": {
        "id": "aQjgzzlE_zB8"
      },
      "execution_count": 4,
      "outputs": []
    },
    {
      "cell_type": "code",
      "source": [
        "# Prepare target labels\n",
        "ratings = np.array(df['averageRating'])\n",
        "\n",
        "# Normalize ratings (optional, but helps with stability)\n",
        "scaler = StandardScaler()\n",
        "ratings = scaler.fit_transform(ratings.reshape(-1, 1)).flatten()\n",
        "\n",
        "# Split data into train and test sets\n",
        "X_train, X_test, y_train, y_test = train_test_split(padded_sequences, ratings, test_size=0.2, random_state=42)\n"
      ],
      "metadata": {
        "id": "QGIhvu0D_2wT"
      },
      "execution_count": 5,
      "outputs": []
    },
    {
      "cell_type": "code",
      "source": [
        "# Build the model\n",
        "embedding_dim = 128\n",
        "\n",
        "from tensorflow.keras.regularizers import l2\n",
        "\n",
        "model = Sequential([\n",
        "    Embedding(input_dim=max_vocab_size, output_dim=embedding_dim),  # Removed input_length\n",
        "    LSTM(64, return_sequences=True, kernel_regularizer=l2(0.01)),\n",
        "    Dropout(0.3),\n",
        "    LSTM(32, kernel_regularizer=l2(0.01)),\n",
        "    Dense(16, activation='relu'),\n",
        "    Dropout(0.2),\n",
        "    Dense(1)\n",
        "])\n"
      ],
      "metadata": {
        "id": "uJByJtXV_5f-"
      },
      "execution_count": 7,
      "outputs": []
    },
    {
      "cell_type": "code",
      "source": [
        "import tensorflow as tf\n",
        "\n",
        "# Define the threshold accuracy function\n",
        "def threshold_accuracy(y_true, y_pred):\n",
        "  \"\"\"Calculates the accuracy based on a threshold.\"\"\"\n",
        "  threshold = 0  # Example threshold, adjust as needed\n",
        "  return tf.reduce_mean(tf.cast(tf.math.greater_equal(y_pred, threshold), tf.float32))\n",
        "\n",
        "# Now compile the model using the defined function\n",
        "model.compile(optimizer='adam', loss='mse', metrics=['mae', threshold_accuracy])"
      ],
      "metadata": {
        "id": "gdw-C0H-_9f3"
      },
      "execution_count": 10,
      "outputs": []
    },
    {
      "cell_type": "code",
      "source": [
        "# Train the model\n",
        "epochs = 10\n",
        "batch_size = 32\n",
        "\n",
        "from tensorflow.keras.callbacks import EarlyStopping\n",
        "\n",
        "early_stopping = EarlyStopping(monitor='val_loss', patience=3)  # Stop if val_loss doesn't improve for 3 epochs\n",
        "\n",
        "history = model.fit(X_train, y_train, validation_data=(X_test, y_test),\n",
        "                    epochs=epochs, batch_size=batch_size, callbacks=[early_stopping])\n"
      ],
      "metadata": {
        "colab": {
          "base_uri": "https://localhost:8080/"
        },
        "id": "AEBNf6ePAqYC",
        "outputId": "676886c7-8eae-4652-f1cb-c994936b0ffd"
      },
      "execution_count": 11,
      "outputs": [
        {
          "output_type": "stream",
          "name": "stdout",
          "text": [
            "Epoch 1/10\n",
            "\u001b[1m119/119\u001b[0m \u001b[32m━━━━━━━━━━━━━━━━━━━━\u001b[0m\u001b[37m\u001b[0m \u001b[1m50s\u001b[0m 362ms/step - loss: 2.4965 - mae: 0.7604 - threshold_accuracy: 0.5076 - val_loss: 1.2091 - val_mae: 0.7868 - val_threshold_accuracy: 0.4417\n",
            "Epoch 2/10\n",
            "\u001b[1m119/119\u001b[0m \u001b[32m━━━━━━━━━━━━━━━━━━━━\u001b[0m\u001b[37m\u001b[0m \u001b[1m93s\u001b[0m 456ms/step - loss: 1.0473 - mae: 0.7382 - threshold_accuracy: 0.4653 - val_loss: 1.0732 - val_mae: 0.7885 - val_threshold_accuracy: 0.4167\n",
            "Epoch 3/10\n",
            "\u001b[1m119/119\u001b[0m \u001b[32m━━━━━━━━━━━━━━━━━━━━\u001b[0m\u001b[37m\u001b[0m \u001b[1m70s\u001b[0m 355ms/step - loss: 1.0638 - mae: 0.7654 - threshold_accuracy: 0.4069 - val_loss: 1.1705 - val_mae: 0.8064 - val_threshold_accuracy: 0.4167\n",
            "Epoch 4/10\n",
            "\u001b[1m119/119\u001b[0m \u001b[32m━━━━━━━━━━━━━━━━━━━━\u001b[0m\u001b[37m\u001b[0m \u001b[1m42s\u001b[0m 354ms/step - loss: 0.8104 - mae: 0.6360 - threshold_accuracy: 0.2755 - val_loss: 1.1759 - val_mae: 0.8302 - val_threshold_accuracy: 0.2460\n",
            "Epoch 5/10\n",
            "\u001b[1m119/119\u001b[0m \u001b[32m━━━━━━━━━━━━━━━━━━━━\u001b[0m\u001b[37m\u001b[0m \u001b[1m42s\u001b[0m 351ms/step - loss: 0.7321 - mae: 0.6104 - threshold_accuracy: 0.2604 - val_loss: 1.2276 - val_mae: 0.8460 - val_threshold_accuracy: 0.2481\n"
          ]
        }
      ]
    },
    {
      "cell_type": "code",
      "source": [
        "from sklearn.metrics import precision_score, recall_score, f1_score\n",
        "\n",
        "# Get predictions for the test set\n",
        "y_pred = model.predict(X_test)\n",
        "y_pred_binary = (y_pred > 0).astype(int)  # Convert to binary predictions (0 or 1) based on a threshold (e.g., 0)\n",
        "\n",
        "# Convert y_test to binary using the same threshold used for y_pred_binary\n",
        "y_test_binary = (y_test > 0).astype(int) # Convert y_test to binary as well\n",
        "\n",
        "precision = precision_score(y_test_binary, y_pred_binary) # Use y_test_binary instead of y_test\n",
        "recall = recall_score(y_test_binary, y_pred_binary) # Use y_test_binary instead of y_test\n",
        "f1 = f1_score(y_test_binary, y_pred_binary) # Use y_test_binary instead of y_test\n",
        "\n",
        "print(f\"Precision: {precision:.4f}\")\n",
        "print(f\"Recall: {recall:.4f}\")\n",
        "print(f\"F1 Score: {f1:.4f}\")"
      ],
      "metadata": {
        "colab": {
          "base_uri": "https://localhost:8080/"
        },
        "id": "PF5IhyPPBLM_",
        "outputId": "fb6a64b9-a80a-474b-8797-d7394b118627"
      },
      "execution_count": 14,
      "outputs": [
        {
          "output_type": "stream",
          "name": "stdout",
          "text": [
            "\u001b[1m30/30\u001b[0m \u001b[32m━━━━━━━━━━━━━━━━━━━━\u001b[0m\u001b[37m\u001b[0m \u001b[1m5s\u001b[0m 155ms/step\n",
            "Precision: 0.6068\n",
            "Recall: 0.2752\n",
            "F1 Score: 0.3787\n"
          ]
        }
      ]
    },
    {
      "cell_type": "code",
      "source": [],
      "metadata": {
        "id": "zivaYbF8CL3K"
      },
      "execution_count": null,
      "outputs": []
    }
  ]
}