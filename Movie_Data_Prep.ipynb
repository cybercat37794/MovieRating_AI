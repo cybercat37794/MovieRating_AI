{
  "cells": [
    {
      "cell_type": "code",
      "execution_count": null,
      "metadata": {
        "colab": {
          "base_uri": "https://localhost:8080/"
        },
        "id": "EtTusdYBWuIb",
        "outputId": "ae78503b-6859-43f2-fec2-7528ba3ddeb0"
      },
      "outputs": [
        {
          "name": "stdout",
          "output_type": "stream",
          "text": [
            "The file extension is: .csv\n"
          ]
        }
      ],
      "source": [
        "import pandas as pd\n",
        "import ast  # Used to safely evaluate the string as a dictionary\n",
        "\n",
        "# Load your CSV file into a DataFrame\n",
        "df = pd.read_csv('/content/movies.csv')\n",
        "\n",
        "# Define a function to clean the 'genres' column\n",
        "def clean_genres(genre_str):\n",
        "    try:\n",
        "        # Use ast.literal_eval to safely convert the string to a dictionary\n",
        "        genres_dict = ast.literal_eval(genre_str)\n",
        "        # Extract the genre names (ignoring the keys)\n",
        "        genres = list(genres_dict.values())\n",
        "        # Return the genres as a comma-separated string\n",
        "        return ', '.join(f'\"{genre}\"' for genre in genres)\n",
        "    except:\n",
        "        return genre_str  # In case of any issues, return the original string\n",
        "\n",
        "# Apply the function to the 'genres' column\n",
        "df['Genres'] = df['Genres'].apply(clean_genres)\n",
        "\n",
        "def clean_countries(countries_str):\n",
        "    try:\n",
        "        # Use ast.literal_eval to safely convert the string to a dictionary\n",
        "        countries_dict = ast.literal_eval(countries_str)\n",
        "        # Extract the genre names (ignoring the keys)\n",
        "        countries = list(countries_dict.values())\n",
        "        # Return the countries as a comma-separated string\n",
        "        return ', '.join(f'\"{country}\"' for country in countries)\n",
        "    except:\n",
        "        return countries_str  # In case of any issues, return the original string\n",
        "\n",
        "# Apply the function to the 'Countries' column\n",
        "df['Countries'] = df['Countries'].apply(clean_countries)\n",
        "\n",
        "def clean_languages(languages_str):\n",
        "    try:\n",
        "        # Use ast.literal_eval to safely convert the string to a dictionary\n",
        "        languages_dict = ast.literal_eval(languages_str)\n",
        "        # Extract the genre names (ignoring the keys)\n",
        "        languages = list(languages_dict.values())\n",
        "        # Return the languages as a comma-separated string\n",
        "        return ', '.join(f'\"{language}\"' for language in languages)\n",
        "    except:\n",
        "        return languages_str  # In case of any issues, return the original string\n",
        "\n",
        "# Apply the function to the 'Languages' column\n",
        "df['Languages'] = df['Languages'].apply(clean_languages)\n",
        "\n",
        "def clean_plots(plots_str):\n",
        "    try:\n",
        "        # Use ast.literal_eval to safely convert the string to a dictionary\n",
        "        plots_dict = ast.literal_eval(plots_str)\n",
        "        # Extract the genre names (ignoring the keys)\n",
        "        plots = list(plots_dict.values())\n",
        "        # Return the plots as a comma-separated string\n",
        "        return ', '.join(f'\"{plot}\"' for plot in plots)\n",
        "    except:\n",
        "        return plots_str  # In case of any issues, return the original string\n",
        "\n",
        "# Apply the function to the 'plot' column\n",
        "df['plot'] = df['plot'].apply(clean_plots)\n",
        "\n",
        "# Remove duplicate rows based on the 'Title' column\n",
        "df = df.drop_duplicates(subset=['Title'])\n",
        "\n",
        "# Drop rows with any null values\n",
        "df = df.dropna()\n",
        "\n",
        "# Save the edited DataFrame back to a CSV file\n",
        "df.to_csv('movie_data_clean.csv', index=False)"
      ]
    },
    {
      "cell_type": "code",
      "execution_count": null,
      "metadata": {
        "id": "DeZ1OTANW-Rp"
      },
      "outputs": [],
      "source": []
    }
  ],
  "metadata": {
    "colab": {
      "provenance": []
    },
    "kernelspec": {
      "display_name": "Python 3",
      "name": "python3"
    },
    "language_info": {
      "name": "python"
    }
  },
  "nbformat": 4,
  "nbformat_minor": 0
}
