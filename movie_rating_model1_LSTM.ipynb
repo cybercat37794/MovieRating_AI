{
  "nbformat": 4,
  "nbformat_minor": 0,
  "metadata": {
    "colab": {
      "provenance": []
    },
    "kernelspec": {
      "name": "python3",
      "display_name": "Python 3"
    },
    "language_info": {
      "name": "python"
    }
  },
  "cells": [
    {
      "cell_type": "code",
      "source": [
        "import pandas as pd\n",
        "import numpy as np\n",
        "import tensorflow as tf\n",
        "from tensorflow.keras.preprocessing.text import Tokenizer\n",
        "from tensorflow.keras.preprocessing.sequence import pad_sequences\n",
        "from tensorflow.keras.models import Sequential\n",
        "from tensorflow.keras.layers import Embedding, LSTM, Dense, Dropout\n",
        "from sklearn.model_selection import train_test_split\n",
        "from sklearn.preprocessing import StandardScaler"
      ],
      "metadata": {
        "id": "wH-JURLhk0Uq"
      },
      "execution_count": 1,
      "outputs": []
    },
    {
      "cell_type": "code",
      "source": [
        "# Load the dataset\n",
        "file_path = \"/content/clean_movie_dataset.csv\"  # Update with the actual file path\n",
        "df = pd.read_csv(file_path)"
      ],
      "metadata": {
        "id": "c0SpOvckk4Jl"
      },
      "execution_count": 2,
      "outputs": []
    },
    {
      "cell_type": "code",
      "source": [
        "# Ensure the 'plot' and 'averageRating' columns exist\n",
        "df = df[['plot', 'averageRating']].dropna()"
      ],
      "metadata": {
        "id": "3VO7ZGYAk41h"
      },
      "execution_count": 3,
      "outputs": []
    },
    {
      "cell_type": "code",
      "source": [
        "# Text Preprocessing\n",
        "max_vocab_size = 10000  # Limit vocabulary size\n",
        "max_length = 300  # Maximum sequence length for padding\n",
        "\n",
        "tokenizer = Tokenizer(num_words=max_vocab_size, oov_token=\"<OOV>\")\n",
        "tokenizer.fit_on_texts(df['plot'])\n",
        "\n",
        "sequences = tokenizer.texts_to_sequences(df['plot'])\n",
        "padded_sequences = pad_sequences(sequences, maxlen=max_length, padding='post', truncating='post')\n"
      ],
      "metadata": {
        "id": "rkPcO7rok8Dw"
      },
      "execution_count": 4,
      "outputs": []
    },
    {
      "cell_type": "code",
      "source": [
        "# Prepare target labels\n",
        "ratings = np.array(df['averageRating'])\n",
        "\n",
        "# Normalize ratings (optional, but helps with stability)\n",
        "scaler = StandardScaler()\n",
        "ratings = scaler.fit_transform(ratings.reshape(-1, 1)).flatten()\n",
        "\n",
        "# Split data into train and test sets\n",
        "X_train, X_test, y_train, y_test = train_test_split(padded_sequences, ratings, test_size=0.2, random_state=42)\n"
      ],
      "metadata": {
        "id": "7KQX7NtZk_j_"
      },
      "execution_count": 5,
      "outputs": []
    },
    {
      "cell_type": "code",
      "source": [
        "# Build the model\n",
        "embedding_dim = 128\n",
        "\n",
        "from tensorflow.keras.regularizers import l2\n",
        "\n",
        "model = Sequential([\n",
        "    Embedding(input_dim=max_vocab_size, output_dim=embedding_dim, input_length=max_length),\n",
        "    LSTM(64, return_sequences=True, kernel_regularizer=l2(0.01)),  # Add L2 regularization\n",
        "    Dropout(0.3),\n",
        "    LSTM(32, kernel_regularizer=l2(0.01)),  # Add L2 regularization\n",
        "    Dense(16, activation='relu'),\n",
        "    Dropout(0.2),\n",
        "    Dense(1)\n",
        "])\n"
      ],
      "metadata": {
        "colab": {
          "base_uri": "https://localhost:8080/"
        },
        "id": "r4bOF4cHlBz1",
        "outputId": "5ca80a97-e87e-457d-c588-69445e43f47b"
      },
      "execution_count": 6,
      "outputs": [
        {
          "output_type": "stream",
          "name": "stderr",
          "text": [
            "/usr/local/lib/python3.11/dist-packages/keras/src/layers/core/embedding.py:90: UserWarning: Argument `input_length` is deprecated. Just remove it.\n",
            "  warnings.warn(\n"
          ]
        }
      ]
    },
    {
      "cell_type": "code",
      "source": [
        "model.compile(optimizer='adam', loss='mse', metrics=['mae'])"
      ],
      "metadata": {
        "id": "SBApSJx0lGlY"
      },
      "execution_count": 7,
      "outputs": []
    },
    {
      "cell_type": "code",
      "source": [
        "# Train the model\n",
        "epochs = 10\n",
        "batch_size = 32\n",
        "\n",
        "from tensorflow.keras.callbacks import EarlyStopping\n",
        "\n",
        "early_stopping = EarlyStopping(monitor='val_loss', patience=3)  # Stop if val_loss doesn't improve for 3 epochs\n",
        "\n",
        "history = model.fit(X_train, y_train, validation_data=(X_test, y_test),\n",
        "                    epochs=epochs, batch_size=batch_size, callbacks=[early_stopping])\n"
      ],
      "metadata": {
        "colab": {
          "base_uri": "https://localhost:8080/"
        },
        "id": "WYTYanpHlJNA",
        "outputId": "97180400-e33d-438f-a2f7-dbe82d102a69"
      },
      "execution_count": 8,
      "outputs": [
        {
          "output_type": "stream",
          "name": "stdout",
          "text": [
            "Epoch 1/10\n",
            "\u001b[1m194/194\u001b[0m \u001b[32m━━━━━━━━━━━━━━━━━━━━\u001b[0m\u001b[37m\u001b[0m \u001b[1m91s\u001b[0m 440ms/step - loss: 2.2095 - mae: 0.7656 - val_loss: 0.9640 - val_mae: 0.7424\n",
            "Epoch 2/10\n",
            "\u001b[1m194/194\u001b[0m \u001b[32m━━━━━━━━━━━━━━━━━━━━\u001b[0m\u001b[37m\u001b[0m \u001b[1m65s\u001b[0m 335ms/step - loss: 1.0187 - mae: 0.7725 - val_loss: 0.9431 - val_mae: 0.7394\n",
            "Epoch 3/10\n",
            "\u001b[1m194/194\u001b[0m \u001b[32m━━━━━━━━━━━━━━━━━━━━\u001b[0m\u001b[37m\u001b[0m \u001b[1m66s\u001b[0m 337ms/step - loss: 1.0095 - mae: 0.7610 - val_loss: 0.9602 - val_mae: 0.7438\n",
            "Epoch 4/10\n",
            "\u001b[1m194/194\u001b[0m \u001b[32m━━━━━━━━━━━━━━━━━━━━\u001b[0m\u001b[37m\u001b[0m \u001b[1m82s\u001b[0m 340ms/step - loss: 0.9519 - mae: 0.7229 - val_loss: 0.9696 - val_mae: 0.7480\n",
            "Epoch 5/10\n",
            "\u001b[1m194/194\u001b[0m \u001b[32m━━━━━━━━━━━━━━━━━━━━\u001b[0m\u001b[37m\u001b[0m \u001b[1m82s\u001b[0m 341ms/step - loss: 0.8749 - mae: 0.6870 - val_loss: 1.0431 - val_mae: 0.7720\n"
          ]
        }
      ]
    },
    {
      "cell_type": "code",
      "source": [
        "# Evaluate the model\n",
        "loss, mae = model.evaluate(X_test, y_test)\n",
        "print(f\"Test MAE: {mae}\")"
      ],
      "metadata": {
        "colab": {
          "base_uri": "https://localhost:8080/"
        },
        "id": "sPp-2cu7lKZe",
        "outputId": "3670ded8-7469-44eb-bf5a-080d68a311a4"
      },
      "execution_count": 9,
      "outputs": [
        {
          "output_type": "stream",
          "name": "stdout",
          "text": [
            "\u001b[1m49/49\u001b[0m \u001b[32m━━━━━━━━━━━━━━━━━━━━\u001b[0m\u001b[37m\u001b[0m \u001b[1m4s\u001b[0m 72ms/step - loss: 1.0546 - mae: 0.7759\n",
            "Test MAE: 0.771984875202179\n"
          ]
        }
      ]
    },
    {
      "cell_type": "code",
      "source": [
        "# Function to predict rating from a new plot\n",
        "def predict_rating(plot):\n",
        "    sequence = tokenizer.texts_to_sequences([plot])\n",
        "    padded = pad_sequences(sequence, maxlen=max_length, padding='post', truncating='post')\n",
        "    predicted_rating = model.predict(padded)[0][0]\n",
        "    return scaler.inverse_transform([[predicted_rating]])[0][0]  # Convert back to original scale\n"
      ],
      "metadata": {
        "id": "w0oMzoEYlMAL"
      },
      "execution_count": 10,
      "outputs": []
    },
    {
      "cell_type": "code",
      "source": [
        "# Example prediction\n",
        "sample_plot = \"A young girl is chosen to participate in a deadly survival game broadcast to the nation.\"\n",
        "predicted = predict_rating(sample_plot)\n",
        "print(f\"Predicted Rating: {predicted:.2f}\")"
      ],
      "metadata": {
        "colab": {
          "base_uri": "https://localhost:8080/"
        },
        "id": "PY1Mr1F1lNHj",
        "outputId": "3f341ccc-bf0c-43b1-d7d0-b484abed0cc0"
      },
      "execution_count": 11,
      "outputs": [
        {
          "output_type": "stream",
          "name": "stdout",
          "text": [
            "\u001b[1m1/1\u001b[0m \u001b[32m━━━━━━━━━━━━━━━━━━━━\u001b[0m\u001b[37m\u001b[0m \u001b[1m0s\u001b[0m 477ms/step\n",
            "Predicted Rating: 6.23\n"
          ]
        }
      ]
    },
    {
      "cell_type": "code",
      "execution_count": 11,
      "metadata": {
        "id": "IU-NPTA1e9I4"
      },
      "outputs": [],
      "source": [
        "\n",
        "\n",
        "\n",
        "\n",
        "\n"
      ]
    },
    {
      "source": [
        "from tensorflow.keras.callbacks import EarlyStopping\n",
        "\n",
        "early_stopping = EarlyStopping(monitor='val_loss', patience=3)  # Stop if val_loss doesn't improve for 3 epochs\n",
        "\n",
        "history = model.fit(X_train, y_train, validation_data=(X_test, y_test),\n",
        "                    epochs=epochs, batch_size=batch_size, callbacks=[early_stopping])"
      ],
      "cell_type": "code",
      "metadata": {
        "colab": {
          "base_uri": "https://localhost:8080/"
        },
        "id": "zbiy65Qzkm5o",
        "outputId": "4b964a65-5337-45a3-ae62-747497eb7919"
      },
      "execution_count": null,
      "outputs": [
        {
          "output_type": "stream",
          "name": "stdout",
          "text": [
            "Epoch 1/10\n",
            "\u001b[1m194/194\u001b[0m \u001b[32m━━━━━━━━━━━━━━━━━━━━\u001b[0m\u001b[37m\u001b[0m \u001b[1m65s\u001b[0m 333ms/step - loss: 0.8113 - mae: 0.6564 - val_loss: 1.0823 - val_mae: 0.7933\n",
            "Epoch 2/10\n",
            "\u001b[1m179/194\u001b[0m \u001b[32m━━━━━━━━━━━━━━━━━━\u001b[0m\u001b[37m━━\u001b[0m \u001b[1m4s\u001b[0m 321ms/step - loss: 0.8031 - mae: 0.6553"
          ]
        }
      ]
    },
    {
      "cell_type": "code",
      "source": [],
      "metadata": {
        "id": "Z3j_bmQlf2eC"
      },
      "execution_count": null,
      "outputs": []
    }
  ]
}